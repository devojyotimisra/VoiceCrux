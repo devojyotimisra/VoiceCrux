{
  "cells": [
    {
      "cell_type": "code",
      "execution_count": null,
      "metadata": {
        "colab": {
          "base_uri": "https://localhost:8080/"
        },
        "id": "MKeYDxOsaLxT",
        "outputId": "6059ab26-773d-43f0-ed68-f8a452f1c923"
      },
      "outputs": [],
      "source": [
        "%%writefile frontend.py\n",
        "\n",
        "import streamlit as st\n",
        "import base64\n",
        "from pydub import AudioSegment\n",
        "import pandas as pd\n",
        "import requests\n",
        "\n",
        "st.set_page_config(page_title=\"VoiceCrux\", page_icon=\"🎙️\")\n",
        "\n",
        "hide_streamlit_style = \"\"\"\n",
        "    <style>\n",
        "    header {visibility: hidden;}\n",
        "    </style>\n",
        "\"\"\"\n",
        "st.markdown(hide_streamlit_style, unsafe_allow_html=True)\n",
        "\n",
        "st.title(\"VoiceCrux\")\n",
        "st.caption(\"_:blue[AI-powered meeting tool that transcribes recordings with speaker labels and provides smart, concise summaries]_\")\n",
        "\n",
        "input = st.radio(\"Select Input Type\",[\"Record Audio\", \"Upload Audio\"], index=None)\n",
        "\n",
        "if input == \"Upload Audio\":\n",
        "    st.subheader(\"Upload Audio\")\n",
        "\n",
        "    uploaded_file = st.file_uploader(\"Upload an audio file\", type=[\"3gp\", \"ogg\", \"opus\", \"webm\", \"mp3\", \"wav\", \"flac\", \"aac\", \"m4a\", \"wma\"])\n",
        "    if uploaded_file is not None:\n",
        "        st.audio(uploaded_file)\n",
        "    number = st.number_input(\"Enter number of speakers\",1,99,placeholder=\"No of speakers?\")\n",
        "    state = st.button(\"Process\")\n",
        "\n",
        "    if uploaded_file is not None and number is not None and state:\n",
        "        audio = AudioSegment.from_file(uploaded_file)\n",
        "        wav_data = audio.export(format=\"wav\").read()\n",
        "        base64_audio = base64.b64encode(wav_data).decode()\n",
        "\n",
        "        response=[]\n",
        "        with st.spinner():\n",
        "            response = requests.post(\"BACKEND_URL\", json={\"audio\": base64_audio, \"number\": number})\n",
        "\n",
        "        if response.status_code == 201:\n",
        "            data = response.json()\n",
        "\n",
        "            segments = data[\"d_data\"][\"segments\"]\n",
        "            start_times = [segment[\"start\"] for segment in segments]\n",
        "            end_times = [segment[\"end\"] for segment in segments]\n",
        "            texts = [segment[\"text\"] for segment in segments]\n",
        "            speakers = [segment[\"speaker\"] for segment in segments]\n",
        "\n",
        "            df = pd.DataFrame({\n",
        "                \"start_time\": start_times,\n",
        "                \"end_time\": end_times,\n",
        "                \"text\": texts,\n",
        "                \"speaker\": speakers\n",
        "            })\n",
        "\n",
        "            st.dataframe(df,use_container_width=True)\n",
        "\n",
        "            st.subheader(\"Summary\")\n",
        "\n",
        "            for key in data[\"summary\"].keys():\n",
        "                st.markdown(f\"**{key}**:\")\n",
        "\n",
        "                justified_text = f\"\"\"\n",
        "                <div style=\"text-align: justify;\">\n",
        "                    {data[\"summary\"][key]}\n",
        "                </div>\n",
        "                \"\"\"\n",
        "\n",
        "                st.markdown(justified_text, unsafe_allow_html=True)\n",
        "\n",
        "                st.markdown(\"\\n\")\n",
        "        else:\n",
        "            st.warning(f\"Error\")\n",
        "\n",
        "if input == \"Record Audio\":\n",
        "    st.subheader(\"Record Audio\")\n",
        "\n",
        "    audio_value = st.audio_input(\"Record your audio\")\n",
        "    number = st.number_input(\"Enter number of speakers\",1,99,placeholder=\"No of speakers?\")\n",
        "    state = st.button(\"Process\")\n",
        "\n",
        "    if audio_value is not None and number is not None and state:\n",
        "        base64_audio = base64.b64encode(audio_value.read()).decode()\n",
        "\n",
        "        response=[]\n",
        "        with st.spinner():\n",
        "            response = requests.post(\"BACKEND_URL\", json={\"audio\": base64_audio, \"number\": number})\n",
        "\n",
        "        if response.status_code == 201:\n",
        "            data = response.json()\n",
        "\n",
        "            segments = data[\"d_data\"][\"segments\"]\n",
        "            start_times = [segment[\"start\"] for segment in segments]\n",
        "            end_times = [segment[\"end\"] for segment in segments]\n",
        "            texts = [segment[\"text\"] for segment in segments]\n",
        "            speakers = [segment[\"speaker\"] for segment in segments]\n",
        "\n",
        "            df = pd.DataFrame({\n",
        "                \"start_time\": start_times,\n",
        "                \"end_time\": end_times,\n",
        "                \"text\": texts,\n",
        "                \"speaker\": speakers\n",
        "            })\n",
        "\n",
        "            st.dataframe(df,use_container_width=True)\n",
        "\n",
        "            st.subheader(\"Summary\")\n",
        "\n",
        "            for key in data[\"summary\"].keys():\n",
        "                st.markdown(f\"**{key}**:\")\n",
        "\n",
        "                justified_text = f\"\"\"\n",
        "                <div style=\"text-align: justify;\">\n",
        "                    {data[\"summary\"][key]}\n",
        "                </div>\n",
        "                \"\"\"\n",
        "                st.markdown(justified_text, unsafe_allow_html=True)\n",
        "\n",
        "                st.markdown(\"\\n\")\n",
        "        else:\n",
        "            st.warning(f\"Error\")"
      ]
    },
    {
      "cell_type": "code",
      "execution_count": null,
      "metadata": {
        "collapsed": true,
        "id": "EXVGwsNRhp0z"
      },
      "outputs": [],
      "source": [
        "!pip install pyngrok streamlit pydub"
      ]
    },
    {
      "cell_type": "code",
      "execution_count": 3,
      "metadata": {
        "id": "Zb7wegUs8huE"
      },
      "outputs": [],
      "source": [
        "from pyngrok import ngrok"
      ]
    },
    {
      "cell_type": "code",
      "execution_count": 7,
      "metadata": {
        "id": "cbsGv0aJdg3Y"
      },
      "outputs": [],
      "source": [
        "!streamlit run frontend.py &>/dev/null &"
      ]
    },
    {
      "cell_type": "code",
      "execution_count": null,
      "metadata": {
        "colab": {
          "base_uri": "https://localhost:8080/"
        },
        "id": "pLxwhdzadFPp",
        "outputId": "eb970671-f5b9-4bd6-9253-e685f35b5b0c"
      },
      "outputs": [],
      "source": [
        "port_no = 8501\n",
        "ngrok.set_auth_token(\"NGROK_AUTH_TOKEN\")\n",
        "public_url = \"NGROK_PUBLIC_URL\"\n",
        "ngrok_tunnel = ngrok.connect(port_no, bind_tls=True, hostname=\"NGROK_HOSTNAME\")\n",
        "print(f\"Ngrok tunnel: {ngrok_tunnel.public_url}\")"
      ]
    }
  ],
  "metadata": {
    "colab": {
      "provenance": []
    },
    "kernelspec": {
      "display_name": "Python 3",
      "name": "python3"
    },
    "language_info": {
      "name": "python"
    }
  },
  "nbformat": 4,
  "nbformat_minor": 0
}
